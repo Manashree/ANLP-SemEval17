{
 "cells": [
  {
   "cell_type": "code",
   "execution_count": null,
   "metadata": {
    "collapsed": false
   },
   "outputs": [],
   "source": [
    "import numpy as np\n",
    "import pandas as pd\n",
    "\n",
    "df_features = pd.DataFrame.from_csv('./2012-relevant/test/STS.gs.MSRpar.txt', sep='\\t')\n",
    "df_labels = pd.DataFrame.from_csv('./2012-relevant/test/STS.input.MSRpar.txt', sep='\\t')\n",
    "\n",
    "df_merged = pd.concat([df_features, df_labels], axis=1)\n",
    "df_merged.head(10)"
   ]
  },
  {
   "cell_type": "markdown",
   "metadata": {},
   "source": [
    "### Combine data by folder and year\n",
    "#### Need to change folder name and txt-types depending on data"
   ]
  },
  {
   "cell_type": "code",
   "execution_count": 64,
   "metadata": {
    "collapsed": false
   },
   "outputs": [],
   "source": [
    "import numpy as np\n",
    "import pandas as pd\n",
    "import nltk\n",
    "\n",
    "import string\n",
    "\n",
    "years     = ['2016']  \n",
    "folders   = ['train']\n",
    "txt_types = ['answer-answer','plagiarism','question-question','headlines','postediting']\n",
    "for yr in years:\n",
    "    for f in folders:   \n",
    "        res_all = pd.DataFrame()\n",
    "        for tt in txt_types:\n",
    "                res = []\n",
    "                for line in open('./' + yr + '-relevant/' + f + '/STS2016.input.' + tt + '.txt', 'r'):\n",
    "                    temp=line.rstrip('\\n').split('\\t')\n",
    "                    temp2 = [yr, tt]\n",
    "                    temp2.append(temp[0])\n",
    "                    temp2.append(temp[1])\n",
    "                    res.append(temp2)\n",
    "                    #res.append([yr, tt] + temp[0]+temp[1])\n",
    "\n",
    "                i = 0\n",
    "                for line in open('./' + yr + '-relevant/' + f + '/STS2016.gs.' + tt + '.txt', 'r'):\n",
    "                    res[i].append(line.rstrip('\\n'))\n",
    "                    i+=1\n",
    "                \n",
    "                df_res = pd.DataFrame(res)\n",
    "                res_all = pd.concat([res_all, df_res])"
   ]
  },
  {
   "cell_type": "markdown",
   "metadata": {},
   "source": [
    "### After multiple runs of above cell, the total dataset is stored in res_all which is written to an output folder"
   ]
  },
  {
   "cell_type": "code",
   "execution_count": 87,
   "metadata": {
    "collapsed": false
   },
   "outputs": [],
   "source": [
    "res_all.columns= ['year','type','sentence1','sentence2','similarity_score'];\n",
    "res_all[res_all['similarity_score']!=''].to_csv('./final_data/2016-train.csv',index= False)"
   ]
  }
 ],
 "metadata": {
  "anaconda-cloud": {},
  "kernelspec": {
   "display_name": "Python 3",
   "language": "python",
   "name": "python3"
  },
  "language_info": {
   "codemirror_mode": {
    "name": "ipython",
    "version": 3
   },
   "file_extension": ".py",
   "mimetype": "text/x-python",
   "name": "python",
   "nbconvert_exporter": "python",
   "pygments_lexer": "ipython3",
   "version": "3.5.2"
  }
 },
 "nbformat": 4,
 "nbformat_minor": 1
}
