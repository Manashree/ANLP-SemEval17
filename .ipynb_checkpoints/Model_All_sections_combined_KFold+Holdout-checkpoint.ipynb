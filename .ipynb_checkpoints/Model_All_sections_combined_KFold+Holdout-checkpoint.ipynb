{
 "cells": [
  {
   "cell_type": "code",
   "execution_count": 9,
   "metadata": {
    "collapsed": false
   },
   "outputs": [],
   "source": [
    "import pandas as pd\n",
    "import numpy as np\n",
    "import nltk\n",
    "import re\n",
    "import string\n",
    "import matplotlib.pyplot as plt\n",
    "import numpy as np\n",
    "%matplotlib inline\n",
    "\n",
    "from sklearn.cross_validation import train_test_split\n",
    "from sklearn.metrics import confusion_matrix\n",
    "from sklearn import metrics\n",
    "from nltk.stem.wordnet import WordNetLemmatizer\n",
    "import warnings\n",
    "\n",
    "from sklearn.neural_network import MLPClassifier\n",
    "from sklearn.metrics import roc_auc_score\n",
    "from sklearn.linear_model import SGDClassifier\n",
    "\n",
    "from scipy.stats.stats import pearsonr"
   ]
  },
  {
   "cell_type": "code",
   "execution_count": 10,
   "metadata": {
    "collapsed": true
   },
   "outputs": [],
   "source": [
    "train_modified = pd.read_csv('final-modified.csv')\n",
    "train_labels = train_modified['original_score'].values\n",
    "train_data = train_modified.drop(['Unnamed: 0', 'year', 'type', 'sentence1', 'sentence2', 'cleaned_S1',\n",
    "       'cleaned_S2', 'cleaned_tagged_S1', 'cleaned_tagged_S2','original_score'],axis=1)"
   ]
  },
  {
   "cell_type": "code",
   "execution_count": 11,
   "metadata": {
    "collapsed": false
   },
   "outputs": [],
   "source": [
    "train_data = train_data.fillna(0)"
   ]
  },
  {
   "cell_type": "markdown",
   "metadata": {},
   "source": [
    "### Feature Importance for entire data"
   ]
  },
  {
   "cell_type": "code",
   "execution_count": 104,
   "metadata": {
    "collapsed": false
   },
   "outputs": [],
   "source": [
    "from sklearn import datasets\n",
    "from sklearn import metrics\n",
    "from sklearn.ensemble import ExtraTreesRegressor\n",
    "\n",
    "# fit an Extra Trees model to the data\n",
    "model = ExtraTreesRegressor()\n",
    "model.fit(train_data, train_labels)\n",
    "# display the relative importance of each attribute\n",
    "importance = model.feature_importances_"
   ]
  },
  {
   "cell_type": "code",
   "execution_count": 105,
   "metadata": {
    "collapsed": false
   },
   "outputs": [
    {
     "name": "stderr",
     "output_type": "stream",
     "text": [
      "/home/manashree/miniconda2/envs/Mani/lib/python3.5/site-packages/ipykernel/__main__.py:4: FutureWarning: sort(columns=....) is deprecated, use sort_values(by=.....)\n"
     ]
    },
    {
     "data": {
      "text/plain": [
       "<matplotlib.text.Text at 0x7f1455873f28>"
      ]
     },
     "execution_count": 105,
     "metadata": {},
     "output_type": "execute_result"
    },
    {
     "data": {
      "text/plain": [
       "<matplotlib.figure.Figure at 0x7f1453cabda0>"
      ]
     },
     "metadata": {},
     "output_type": "display_data"
    },
    {
     "data": {
      "image/png": "[encoded data removed]",
      "text/plain": [
       "<matplotlib.figure.Figure at 0x7f14535b0b38>"
      ]
     },
     "metadata": {},
     "output_type": "display_data"
    }
   ],
   "source": [
    "df = pd.DataFrame()\n",
    "df['feature'] = train_data.columns\n",
    "df['importance'] = importance\n",
    "df.sort(columns=['importance'], ascending=True, inplace=True)\n",
    "plt.figure()\n",
    "df.plot(kind='barh', x='feature', y='importance', legend=False, figsize=(10, 2))\n",
    "plt.title(' Feature Importance')"
   ]
  },
  {
   "cell_type": "code",
   "execution_count": 14,
   "metadata": {
    "collapsed": false
   },
   "outputs": [
    {
     "data": {
      "text/plain": [
       "array(['MSRpar', 'MSRvid', 'SMTeuroparl', 'surprise.OnWN',\n",
       "       'surprise.SMTnews', 'headlines', 'OnWN', 'FNWN', 'deft-forum',\n",
       "       'deft-news', 'tweet-news', 'answers-forums', 'answers-students',\n",
       "       'belief', 'images', 'answer-answer', 'plagiarism',\n",
       "       'question-question', 'postediting'], dtype=object)"
      ]
     },
     "execution_count": 14,
     "metadata": {},
     "output_type": "execute_result"
    }
   ],
   "source": [
    "train_data = train_modified.drop(['Unnamed: 0', 'sentence1', 'sentence2', 'cleaned_S1',\n",
    "       'cleaned_S2', 'cleaned_tagged_S1', 'cleaned_tagged_S2'],axis=1)\n",
    "train_data['type'].unique()"
   ]
  },
  {
   "cell_type": "code",
   "execution_count": 29,
   "metadata": {
    "collapsed": false
   },
   "outputs": [
    {
     "data": {
      "text/plain": [
       "False"
      ]
     },
     "execution_count": 29,
     "metadata": {},
     "output_type": "execute_result"
    }
   ],
   "source": [
    "#Check if anything is missing\n",
    "np.any(np.isnan(train_data))"
   ]
  },
  {
   "cell_type": "code",
   "execution_count": 30,
   "metadata": {
    "collapsed": false
   },
   "outputs": [
    {
     "data": {
      "text/plain": [
       "True"
      ]
     },
     "execution_count": 30,
     "metadata": {},
     "output_type": "execute_result"
    }
   ],
   "source": [
    "#Check if anything is Inf\n",
    "np.all(np.isfinite(train_data))"
   ]
  },
  {
   "cell_type": "markdown",
   "metadata": {},
   "source": [
    "### Machine Learning Algorithms - Linear Regression, Random Forest Regressor and Support Vector Machine Regressor"
   ]
  },
  {
   "cell_type": "code",
   "execution_count": 106,
   "metadata": {
    "collapsed": false
   },
   "outputs": [
    {
     "name": "stdout",
     "output_type": "stream",
     "text": [
      "Model:  rfr\n",
      "Finished fold 0\n",
      "Finished fold 1\n",
      "Finished fold 2\n",
      "Finished fold 3\n",
      "Finished fold 4\n",
      "Finished fold 5\n",
      "Finished fold 6\n",
      "Finished fold 7\n",
      "Finished fold 8\n",
      "Finished fold 9\n",
      "Model:  linear\n",
      "Finished fold 0\n",
      "Finished fold 1\n",
      "Finished fold 2\n",
      "Finished fold 3\n",
      "Finished fold 4\n",
      "Finished fold 5\n",
      "Finished fold 6\n",
      "Finished fold 7\n",
      "Finished fold 8\n",
      "Finished fold 9\n",
      "Model:  svr\n",
      "Finished fold 0\n",
      "Finished fold 1\n",
      "Finished fold 2\n",
      "Finished fold 3\n",
      "Finished fold 4\n",
      "Finished fold 5\n",
      "Finished fold 6\n",
      "Finished fold 7\n",
      "Finished fold 8\n",
      "Finished fold 9\n"
     ]
    }
   ],
   "source": [
    "import numpy as np\n",
    "import pandas as pd\n",
    "from sklearn.cross_validation import KFold\n",
    "from sklearn.svm import SVR\n",
    "from sklearn.linear_model import LinearRegression\n",
    "from sklearn.ensemble import RandomForestRegressor\n",
    "\n",
    "ESTIMATORS = {\n",
    "    \"linear\": LinearRegression(),\n",
    "    \"svr\":  SVR(C=1.0, epsilon=0.2),\n",
    "    \"rfr\": RandomForestRegressor(n_estimators=250),\n",
    "}\n",
    "\n",
    "n_folds = 10\n",
    "train_predictions = pd.DataFrame({'id': range(train_data.shape[0])})\n",
    "train_predictions.set_index(['id'])\n",
    "for name, estimator in ESTIMATORS.items():\n",
    "    print(\"Model: \", name)\n",
    "\n",
    "    kf = KFold(train_data.shape[0], n_folds=n_folds)\n",
    "    hold_prediction = []\n",
    "    eval_score = 0\n",
    "\n",
    "    for i, (train_index, test_index) in enumerate(kf):\n",
    "        X_train, X_val = train_data.iloc[train_index], train_data.iloc[test_index]\n",
    "        y_train, y_val = train_labels[train_index], train_labels[test_index]\n",
    "        estimator.fit(X_train, y_train)\n",
    "        hold_prediction.extend(estimator.predict(X_val))\n",
    "        print(\"Finished fold\",i)\n",
    "    train_predictions[name] = hold_prediction"
   ]
  },
  {
   "cell_type": "code",
   "execution_count": 98,
   "metadata": {
    "collapsed": false
   },
   "outputs": [
    {
     "name": "stdout",
     "output_type": "stream",
     "text": [
      "rfr : 0.749011580949\n",
      "svr : 0.729312685106\n",
      "linear : 0.721934445554\n"
     ]
    }
   ],
   "source": [
    "### Using the holdout srategy\n",
    "for col in ESTIMATORS.keys():\n",
    "    print(col,\":\",pearsonr(train_predictions[col], train_labels)[0])"
   ]
  },
  {
   "cell_type": "markdown",
   "metadata": {},
   "source": [
    "### Using the holdout srategy\n",
    "\n",
    "#### rfr : 0.749011580949\n",
    "#### svr : 0.729312685106\n",
    "#### linear : 0.721934445554"
   ]
  },
  {
   "cell_type": "code",
   "execution_count": 107,
   "metadata": {
    "collapsed": false
   },
   "outputs": [
    {
     "name": "stdout",
     "output_type": "stream",
     "text": [
      "rfr : 0.709134900457\n",
      "linear : 0.707669318632\n",
      "svr : 0.710676614239\n"
     ]
    }
   ],
   "source": [
    "### Using K-Fold CV srategy\n",
    "\n",
    "for col in ESTIMATORS.keys():\n",
    "    print(col,\":\",pearsonr(train_predictions[col], train_labels)[0])"
   ]
  },
  {
   "cell_type": "markdown",
   "metadata": {},
   "source": [
    "### Using K-Fold CV srategy\n",
    "\n",
    "#### rfr : 0.709134900457\n",
    "#### linear : 0.707669318632\n",
    "#### svr : 0.710676614239"
   ]
  }
 ],
 "metadata": {
  "kernelspec": {
   "display_name": "Python 3",
   "language": "python",
   "name": "python3"
  },
  "language_info": {
   "codemirror_mode": {
    "name": "ipython",
    "version": 3
   },
   "file_extension": ".py",
   "mimetype": "text/x-python",
   "name": "python",
   "nbconvert_exporter": "python",
   "pygments_lexer": "ipython3",
   "version": "3.5.2"
  }
 },
 "nbformat": 4,
 "nbformat_minor": 1
}
